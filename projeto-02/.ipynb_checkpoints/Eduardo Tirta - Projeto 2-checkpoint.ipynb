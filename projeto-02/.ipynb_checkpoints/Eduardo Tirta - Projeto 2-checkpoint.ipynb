{
 "cells": [
  {
   "cell_type": "code",
   "execution_count": 1,
   "metadata": {},
   "outputs": [],
   "source": [
    "%matplotlib inline\n",
    "import os\n",
    "import subprocess\n",
    "\n",
    "import numpy as np\n",
    "import matplotlib.pyplot as plt\n",
    "import pandas as pd"
   ]
  },
  {
   "cell_type": "markdown",
   "metadata": {},
   "source": [
    "# Projeto 2\n",
    "\n",
    "### Eduardo Tirta  \n"
   ]
  },
  {
   "cell_type": "markdown",
   "metadata": {},
   "source": [
    "## Introdução\n",
    "\n",
    "Neste projeto iremos trabalhar em uma área chamada Otimizacão discreta, que estuda problemas de otimizacão\n",
    "em que as variáveis correspondem a uma sequência de escolhas e que tem uma característica especial: a solucão\n",
    "ótima só pode ser encontrada se enumerarmos todas as escolhas possíveis, Ou seja: não existem algoritmos\n",
    "eficientes para sua resolucão. Isto significa que todo algoritmo para sua solucão é O(2n) ou pior. Inclusive, ao\n",
    "recebermos uma solucão só conseguimos saber se ela é a melhor se olhando para todas as outras de novo!\n",
    "Claramente, estes problemas são interessantes para computacão paralela: podemos diminuir seu consumo de\n",
    "tempo consideravelmente se realizarmos testes em paralelo.\n",
    "\n",
    "Um problema muito popular na área de logística é o Caixeiro Viajante:\n",
    "Um vendedor possui uma lista de empresas que ele deverá visitar em um certo dia. Não existe uma\n",
    "ordem fixa: desde que todos sejam visitados seu objetivo do dia está cumprido. Interessado em\n",
    "passar o maior tempo possível nos clientes ele precisa encontrar a sequência de visitas que resulta\n",
    "no menor caminho.\n",
    "\n",
    "Vamos assumir que:\n",
    "• o nosso caixeiro usa Waze e já sabe qual é o caminho com a menor distância entre dois pontos;\n",
    "• ele começa seu trajeto na empresa 0 . Ou seja, basta ele encontrar um trajeto que passe por todas as\n",
    "outras e volte a empresa 0 ;\n",
    "• ele não pode passar duas vezes na mesma empresa. Ou seja, a saída é uma permutação de 0 ... (N-1)\n",
    "\n",
    "Nosso trabalho será encontrar esse caminho e fornecê-lo ao vendedor. Note que esta mesma formulação pode\n",
    "ser usada (ou adaptada) para empresas de entregas com caminhões.\n",
    "Finalmente, os objetivos deste projeto são\n",
    "\n",
    "1. implementar uma versão sequencial em C++ do caixeiro viajante a partir de uma implementação em Python.\n",
    "2. Estudar e implementar os seguintes métodos paralelos:\n",
    "    * enumeracão exaustiva em paralelo\n",
    "    * busca local paralela usando 2-opt\n",
    "    * branch and bound (ou heuristic search)"
   ]
  },
  {
   "cell_type": "markdown",
   "metadata": {},
   "source": [
    "## Desenvolvimento e Otimização\n",
    "\n",
    "O projeto consiste na otimização do problema do caixeiro viajante, fornecido em python.\n",
    "\n",
    "O primeiro passo do trabalho foi transformar o código em python para C++, assim, possibilita a paralelização do problema de enumeração exaustiva. Essa otimização paralelizada utiliza OMP parallel para gerar tasks que vão ser chamadas recursivamente e assim, gerar uma solução mais rápida por dividir a quantidade de processos em threads. \n",
    "Outra solução para deixar mais rápido o tempo de resposta do programa, foi utilizar o método branch and bound, o que faz com que o código pare de percorrer outras possibilidades, caso o valor calculado até aquele momento seja maior que o custo da melhor solução que já foi terminada, esse método já auxilia muito a velocidade. Já que impede de percorrer exaustivamente todo os caminhos possíveis.\n",
    "\n",
    "## Branch and bound\n",
    "\n",
    "O conceito do branch and bound é bem simples, ele otimiza o algoritmo fazendo com que o programa não necessita realizar todos os caminhos exaustivamente, claro que no pior caso, pode ser que percorra todo o caminho e possibilidade, mas geralmente não existe essa possibilidade.\n",
    "O código impede que seja totalmente percorrida, com uma base que ao percorrer um caminho e visto o custo dele, se no meio do proximo caminho ja for maior que o caminho percorrido anteriormente, nao é necessario terminar o caminho, já que sabemos que existe um caminho de melhor distância."
   ]
  },
  {
   "cell_type": "markdown",
   "metadata": {},
   "source": [
    "## Especificação do computador\n",
    "\n",
    "Todos os testes foram feitos em um computador rodando em lixux, ubuntu 18 com processador i7, setima geração e 16 de RAM."
   ]
  },
  {
   "cell_type": "markdown",
   "metadata": {},
   "source": [
    "## Testes do projeto\n",
    "\n",
    "O projeto possui 5 arquivos com o código do caxeiro viajante, além de 1 arquivo que gera numeros aleatorios representando os pontos que o viajante precisa passar.\n",
    "\n",
    "* Arquivo tsp.py, codigo referencia feita pelo Igor utilizando o método de enumeração exaustiva\n",
    "* Arquivo tsp-seq.cpp, codigo \"traduzido\" do referencia feita em python\n",
    "* Arquivo tsp-seq-bb.cpp, codigo que utiliza o metodo do branch and bound \n",
    "* Arquivo tsp-par.cpp, otimiza o arquivo tsp-seq.cpp em paralelo, assim, usamos o poder computacional para ganhar velocidade\n",
    "* Arquivo tsp-bb.cpp, codigo que utiliza o metodo do branch and bound em paralelo.\n",
    "* Arquivo gerador.py, gera um arquivo com uma quantidade de pontos que o viajante deve percorrer.\n",
    "\n",
    "```python3 gerador.py > [nome_do_arquivo_de_entrada]```\n",
    "\n",
    "Depois é necessário digitar a quantidade de pontos que deseja gerar para o viajante passar\n",
    "\n",
    "\n",
    "Além disso, o projeto possui um CMakeLists.txt que possibilita a compilação dos executáveis. São eles:\n",
    "* tsp-seq (sequencial)\n",
    "* tsp-seq-bb (sequencial branch and bound)\n",
    "* tsp-par (paralelo)\n",
    "* tsp-bb (paralelo branch and bound)\n",
    "\n",
    "Siga os comando abaixo para gerar os arquivos compiláveis: \n",
    "```\n",
    "mkdir build\n",
    "cd build\n",
    "cmake ..\n",
    "make \n",
    "```\n",
    "\n",
    "Para rodar o programa, basta utilizar\n",
    "\n",
    "```./[nome_do_executavel] < ../[nome_do_arquivo_de_entrada]```."
   ]
  },
  {
   "cell_type": "markdown",
   "metadata": {},
   "source": [
    "## Resultados"
   ]
  },
  {
   "cell_type": "code",
   "execution_count": 2,
   "metadata": {},
   "outputs": [
    {
     "data": {
      "text/plain": [
       "['tsp-par', 'tsp-seq', 'tsp-seq-bb']"
      ]
     },
     "execution_count": 2,
     "metadata": {},
     "output_type": "execute_result"
    }
   ],
   "source": [
    "# Pegar o nome dos executaveis\n",
    "executables = sorted([n for n in os.listdir(\"./build/\") if n.startswith('tsp')])\n",
    "executables"
   ]
  },
  {
   "cell_type": "code",
   "execution_count": 3,
   "metadata": {},
   "outputs": [
    {
     "data": {
      "text/plain": [
       "['in10', 'in12']"
      ]
     },
     "execution_count": 3,
     "metadata": {},
     "output_type": "execute_result"
    }
   ],
   "source": [
    "# Pegar o nome das entradas menores\n",
    "inputs = sorted([n for n in os.listdir(\"./\") if n.startswith('in')])\n",
    "inputs"
   ]
  },
  {
   "cell_type": "code",
   "execution_count": 4,
   "metadata": {},
   "outputs": [],
   "source": [
    "def run_test(executable, input_file,j):\n",
    "    with open('./' + input_file, 'rb', 0) as f:\n",
    "        output = subprocess.check_output(['./build/' + str(executable)], stdin=f)\n",
    "        output = output.decode(\"utf-8\").splitlines()\n",
    "        tempo = output[-1].split()\n",
    "     \n",
    "    print(f\"--{executable}------{input_file}--\")\n",
    "    print(\"\\n\".join(output))\n",
    "    return [executable, input_file, output[0],tempo[-2]]"
   ]
  },
  {
   "cell_type": "code",
   "execution_count": 5,
   "metadata": {},
   "outputs": [
    {
     "ename": "NameError",
     "evalue": "name 'j' is not defined",
     "output_type": "error",
     "traceback": [
      "\u001b[0;31m---------------------------------------------------------------------------\u001b[0m",
      "\u001b[0;31mNameError\u001b[0m                                 Traceback (most recent call last)",
      "\u001b[0;32m<ipython-input-5-549c88eb3de1>\u001b[0m in \u001b[0;36m<module>\u001b[0;34m()\u001b[0m\n\u001b[1;32m      4\u001b[0m \u001b[0;32mfor\u001b[0m \u001b[0me\u001b[0m \u001b[0;32min\u001b[0m \u001b[0mexecutables\u001b[0m\u001b[0;34m:\u001b[0m\u001b[0;34m\u001b[0m\u001b[0;34m\u001b[0m\u001b[0m\n\u001b[1;32m      5\u001b[0m     \u001b[0;32mfor\u001b[0m \u001b[0mi\u001b[0m \u001b[0;32min\u001b[0m \u001b[0minputs\u001b[0m\u001b[0;34m:\u001b[0m\u001b[0;34m\u001b[0m\u001b[0;34m\u001b[0m\u001b[0m\n\u001b[0;32m----> 6\u001b[0;31m         \u001b[0mdata\u001b[0m\u001b[0;34m.\u001b[0m\u001b[0mappend\u001b[0m\u001b[0;34m(\u001b[0m\u001b[0mrun_test\u001b[0m\u001b[0;34m(\u001b[0m\u001b[0me\u001b[0m\u001b[0;34m,\u001b[0m \u001b[0mi\u001b[0m\u001b[0;34m,\u001b[0m\u001b[0mj\u001b[0m\u001b[0;34m)\u001b[0m\u001b[0;34m)\u001b[0m\u001b[0;34m\u001b[0m\u001b[0;34m\u001b[0m\u001b[0m\n\u001b[0m",
      "\u001b[0;31mNameError\u001b[0m: name 'j' is not defined"
     ]
    }
   ],
   "source": [
    "executables = sorted([n for n in os.listdir(\"./build/\") if n.startswith('tsp')])\n",
    "inputs = sorted([n for n in os.listdir(\"./\") if n.startswith('in')])\n",
    "data = []\n",
    "for e in executables:\n",
    "    for i in inputs:\n",
    "        data.append(run_test(e, i))"
   ]
  },
  {
   "cell_type": "code",
   "execution_count": null,
   "metadata": {},
   "outputs": [],
   "source": [
    "df = pd.DataFrame(data, dtype=np.float64)\n",
    "df"
   ]
  },
  {
   "cell_type": "code",
   "execution_count": null,
   "metadata": {},
   "outputs": [],
   "source": [
    "groups = df.groupby(0)\n",
    "\n",
    "fig, ax = plt.subplots()\n",
    "for name, group in groups:\n",
    "    ax.plot(group[1], group[3], marker='o', linestyle='-', ms=5, label=group[0])\n",
    "plt.title('Tempos para executáveis diferentes')\n",
    "plt.ylabel('Tempo (ms)')\n",
    "plt.xlabel('Entrada Utilizada')\n",
    "plt.legend(loc='upper left', bbox_to_anchor=(1, 1))\n",
    "plt.show()"
   ]
  }
 ],
 "metadata": {
  "kernelspec": {
   "display_name": "Python 3",
   "language": "python",
   "name": "python3"
  },
  "language_info": {
   "codemirror_mode": {
    "name": "ipython",
    "version": 3
   },
   "file_extension": ".py",
   "mimetype": "text/x-python",
   "name": "python",
   "nbconvert_exporter": "python",
   "pygments_lexer": "ipython3",
   "version": "3.6.8"
  }
 },
 "nbformat": 4,
 "nbformat_minor": 2
}
