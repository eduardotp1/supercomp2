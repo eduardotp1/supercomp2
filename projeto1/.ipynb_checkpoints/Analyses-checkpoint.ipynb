{
 "cells": [
  {
   "cell_type": "markdown",
   "metadata": {},
   "source": [
    "## Introducao"
   ]
  },
  {
   "cell_type": "markdown",
   "metadata": {},
   "source": [
    "O projeto consiste em simular o comportamento fisico de corpos retangulares que colidem elasticamente entre si e as bordas de um campo, possuindo um coeficiente de atrito dinamico. Esta simulacao é feita de uma forma simplificada. Ja que a ideia do projeto é praticar os conceitos de C++.\n",
    "Outro requisito do projeto é mostrar as otimizacoes presentes na compilacao e como pode possuir um ganho usando algumas flags de otimizacoes."
   ]
  },
  {
   "cell_type": "markdown",
   "metadata": {},
   "source": [
    "## Testes"
   ]
  },
  {
   "cell_type": "markdown",
   "metadata": {},
   "source": [
    "## Resultados"
   ]
  },
  {
   "cell_type": "code",
   "execution_count": null,
   "metadata": {},
   "outputs": [],
   "source": []
  }
 ],
 "metadata": {
  "kernelspec": {
   "display_name": "Python 3",
   "language": "python",
   "name": "python3"
  },
  "language_info": {
   "codemirror_mode": {
    "name": "ipython",
    "version": 3
   },
   "file_extension": ".py",
   "mimetype": "text/x-python",
   "name": "python",
   "nbconvert_exporter": "python",
   "pygments_lexer": "ipython3",
   "version": "3.6.8"
  }
 },
 "nbformat": 4,
 "nbformat_minor": 2
}
