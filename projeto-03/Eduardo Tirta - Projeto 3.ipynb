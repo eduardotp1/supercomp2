{
 "cells": [
  {
   "cell_type": "code",
   "execution_count": 1,
   "metadata": {},
   "outputs": [],
   "source": [
    "%matplotlib inline\n",
    "import os\n",
    "import subprocess\n",
    "\n",
    "import numpy as np\n",
    "import matplotlib.pyplot as plt\n",
    "import pandas as pd"
   ]
  },
  {
   "cell_type": "markdown",
   "metadata": {},
   "source": [
    "# Projeto 3\n",
    "\n",
    "### Eduardo Tirta  \n"
   ]
  },
  {
   "cell_type": "markdown",
   "metadata": {},
   "source": [
    "## Introdução\n",
    "\n",
    "Neste projeto iremos trabalhar em uma área chamada Otimizacão discreta, que estuda problemas de otimizacão\n",
    "em que as variáveis correspondem a uma sequência de escolhas e que tem uma característica especial: a solucão\n",
    "ótima só pode ser encontrada se enumerarmos todas as escolhas possíveis, Ou seja: não existem algoritmos\n",
    "eficientes para sua resolucão. Isto significa que todo algoritmo para sua solucão é O(2n) ou pior. Inclusive, ao\n",
    "recebermos uma solucão só conseguimos saber se ela é a melhor se olhando para todas as outras de novo!\n",
    "Claramente, estes problemas são interessantes para computacão paralela: podemos diminuir seu consumo de\n",
    "tempo consideravelmente se realizarmos testes em paralelo.\n",
    "\n",
    "Um problema muito popular na área de logística é o Caixeiro Viajante:\n",
    "Um vendedor possui uma lista de empresas que ele deverá visitar em um certo dia. Não existe uma\n",
    "ordem fixa: desde que todos sejam visitados seu objetivo do dia está cumprido. Interessado em\n",
    "passar o maior tempo possível nos clientes ele precisa encontrar a sequência de visitas que resulta\n",
    "no menor caminho.\n",
    "\n",
    "Vamos assumir que:\n",
    "• o nosso caixeiro usa Waze e já sabe qual é o caminho com a menor distância entre dois pontos;\n",
    "• ele começa seu trajeto na empresa 0 . Ou seja, basta ele encontrar um trajeto que passe por todas as\n",
    "outras e volte a empresa 0 ;\n",
    "• ele não pode passar duas vezes na mesma empresa. Ou seja, a saída é uma permutação de 0 ... (N-1)\n",
    "\n",
    "Nosso trabalho será encontrar esse caminho e fornecê-lo ao vendedor. Note que esta mesma formulação pode\n",
    "ser usada (ou adaptada) para empresas de entregas com caminhões.\n",
    "Finalmente, os objetivos deste projeto são\n",
    "\n",
    "1. Implementar um aprimoramento do codigo do projeto 2, enviando os dados para GPU"
   ]
  },
  {
   "cell_type": "markdown",
   "metadata": {},
   "source": [
    "## Desenvolvimento e Otimização\n",
    "\n",
    "O projeto consiste na otimização do problema do caixeiro viajante, desenvolvido no projeto 2 desta disciplina.\n",
    "\n",
    "Como o processamento de uma GPU é maior, é aceitável gerar soluções randomicas, possuindo um resultado para a nossa solução. Mas para garantir que o código gere uma solução ótima, é feito um desenvolvimento de uma solução 2-opt. Essa solução é implementada verificando se existe uma solução melhor no momento que invertemos dois pontos, evitando cruzamentos."
   ]
  },
  {
   "cell_type": "markdown",
   "metadata": {},
   "source": [
    "## Especificação do computador\n",
    "\n",
    "Os testes são feitos em um computador hospetado na AWS do modelo p2.xlarge"
   ]
  },
  {
   "cell_type": "markdown",
   "metadata": {},
   "source": [
    "## Testes do projeto\n",
    "\n",
    "O projeto possui 5 arquivos com o código do caxeiro viajante, além de 1 arquivo que gera numeros aleatorios representando os pontos que o viajante precisa passar.\n",
    "\n",
    "* 2-opt-sol.cu\n",
    "* Arquivo tsp-par.cpp, otimiza o arquivo tsp-seq.cpp em paralelo, assim, usamos o poder computacional para ganhar velocidade\n",
    "\n",
    "\n",
    "```python3 gerador.py > [nome_do_arquivo_de_entrada]```\n",
    "\n",
    "Depois é necessário digitar a quantidade de pontos que deseja gerar para o viajante passar\n",
    "\n",
    "\n",
    "Além disso, o projeto possui um CMakeLists.txt que possibilita a compilação dos executáveis. São eles:\n",
    "* 2-opt-sol\n",
    "* tsp-par (paralelo)\n",
    "\n",
    "Siga os comando abaixo para gerar os arquivos compiláveis: \n",
    "```\n",
    "mkdir build\n",
    "cd build\n",
    "cmake ..\n",
    "make \n",
    "```\n",
    "\n",
    "Para rodar o programa, basta utilizar\n",
    "\n",
    "```./[nome_do_executavel] < ../[nome_do_arquivo_de_entrada]```."
   ]
  },
  {
   "cell_type": "markdown",
   "metadata": {},
   "source": [
    "## Resultados\n",
    "\n",
    "Os testes foram realizados com entrada de tamanho 30, para verificar se o codigo estava certo, foi feito a comparacao com o arquivo tsp.py em tamanhos menores e testando uma certa quantidade de vezes para garantir que o resultado de entrada e de saida estavam condizentes com o arquivo referencia.\n",
    "O tempo de execucao eh medido usando chrono high resolution."
   ]
  },
  {
   "cell_type": "code",
   "execution_count": null,
   "metadata": {},
   "outputs": [],
   "source": []
  }
 ],
 "metadata": {
  "kernelspec": {
   "display_name": "Python 3",
   "language": "python",
   "name": "python3"
  },
  "language_info": {
   "codemirror_mode": {
    "name": "ipython",
    "version": 3
   },
   "file_extension": ".py",
   "mimetype": "text/x-python",
   "name": "python",
   "nbconvert_exporter": "python",
   "pygments_lexer": "ipython3",
   "version": "3.6.8"
  }
 },
 "nbformat": 4,
 "nbformat_minor": 2
}
